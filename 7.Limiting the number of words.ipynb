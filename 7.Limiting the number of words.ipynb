{
 "cells": [
  {
   "cell_type": "code",
   "execution_count": 3,
   "id": "72affb06",
   "metadata": {},
   "outputs": [],
   "source": [
    "from tensorflow.keras.preprocessing.text import Tokenizer"
   ]
  },
  {
   "cell_type": "code",
   "execution_count": 5,
   "id": "0e2f9e2c",
   "metadata": {},
   "outputs": [],
   "source": [
    "tok=Tokenizer(num_words=4)"
   ]
  },
  {
   "cell_type": "code",
   "execution_count": 10,
   "id": "39e2414c",
   "metadata": {},
   "outputs": [],
   "source": [
    "corp=['Coffee is hot','Water is cold']"
   ]
  },
  {
   "cell_type": "code",
   "execution_count": 13,
   "id": "b1c78ba9",
   "metadata": {},
   "outputs": [],
   "source": [
    "tok.fit_on_texts(corp)"
   ]
  },
  {
   "cell_type": "code",
   "execution_count": 14,
   "id": "1a8ebf6b",
   "metadata": {},
   "outputs": [
    {
     "name": "stdout",
     "output_type": "stream",
     "text": [
      "{'is': 1, 'coffee': 2, 'hot': 3, 'water': 4, 'cold': 5}\n"
     ]
    }
   ],
   "source": [
    "print(tok.word_index)"
   ]
  },
  {
   "cell_type": "code",
   "execution_count": 17,
   "id": "9094e4ea",
   "metadata": {},
   "outputs": [
    {
     "data": {
      "text/plain": [
       "[[2, 1, 3], [1]]"
      ]
     },
     "execution_count": 17,
     "metadata": {},
     "output_type": "execute_result"
    }
   ],
   "source": [
    "tok.texts_to_sequences(corp)"
   ]
  }
 ],
 "metadata": {
  "kernelspec": {
   "display_name": "Python 3 (ipykernel)",
   "language": "python",
   "name": "python3"
  },
  "language_info": {
   "codemirror_mode": {
    "name": "ipython",
    "version": 3
   },
   "file_extension": ".py",
   "mimetype": "text/x-python",
   "name": "python",
   "nbconvert_exporter": "python",
   "pygments_lexer": "ipython3",
   "version": "3.11.7"
  }
 },
 "nbformat": 4,
 "nbformat_minor": 5
}
