{
 "cells": [
  {
   "cell_type": "code",
   "execution_count": 17,
   "id": "76b7bec0",
   "metadata": {},
   "outputs": [],
   "source": [
    "text='The quick brown fox jumps over lazy dogs'"
   ]
  },
  {
   "cell_type": "markdown",
   "id": "f9f48eed",
   "metadata": {},
   "source": [
    "## Capitilize"
   ]
  },
  {
   "cell_type": "code",
   "execution_count": 18,
   "id": "987ecbcd",
   "metadata": {},
   "outputs": [
    {
     "name": "stdout",
     "output_type": "stream",
     "text": [
      "The quick brown fox jumps over lazy dogs\n",
      "4he quick brown fox jumps over lazy dogs\n",
      "The quick brown fox jumps over lazy dogs\n"
     ]
    }
   ],
   "source": [
    "print(text.capitalize())\n",
    "\n",
    "#manually\n",
    "print(chr(ord(text[0])-32)+text[1:])\n",
    "\n",
    "#or\n",
    "print(text[0].upper()+text[1:])"
   ]
  },
  {
   "cell_type": "markdown",
   "id": "967f1ab7",
   "metadata": {},
   "source": [
    "## Upper and Lower"
   ]
  },
  {
   "cell_type": "code",
   "execution_count": 19,
   "id": "3c3a8730",
   "metadata": {},
   "outputs": [
    {
     "name": "stdout",
     "output_type": "stream",
     "text": [
      "THE QUICK BROWN FOX JUMPS OVER LAZY DOGS\n",
      "the quick brown fox jumps over lazy dogs\n"
     ]
    }
   ],
   "source": [
    "print(text.upper())\n",
    "print(text.lower())"
   ]
  },
  {
   "cell_type": "code",
   "execution_count": 28,
   "id": "0cfcbee2",
   "metadata": {},
   "outputs": [
    {
     "name": "stdout",
     "output_type": "stream",
     "text": [
      "the quick brown fox jumps over lazy dogs\n",
      "THE QUICK BROWN FOX JUMPS OVER LAZY DOGS\n"
     ]
    }
   ],
   "source": [
    "def lower(text):\n",
    "    string=''\n",
    "    for char in text:\n",
    "        if(ord(char)>=65 and ord(char)<=90):\n",
    "            string+=chr(ord(char)+32)\n",
    "            \n",
    "        else:\n",
    "            string+=char\n",
    "    print(string)\n",
    "def upper(text):\n",
    "    string=''\n",
    "    for char in text:\n",
    "        if(ord(char)>=97 and ord(char)<=122):\n",
    "            string+=chr(ord(char)-32)\n",
    "            \n",
    "        else:\n",
    "            string+=char\n",
    "    print(string)\n",
    "    \n",
    "lower(text)\n",
    "upper(text)\n"
   ]
  },
  {
   "cell_type": "markdown",
   "id": "bd41b886",
   "metadata": {},
   "source": [
    "## Checking a data"
   ]
  },
  {
   "cell_type": "code",
   "execution_count": 29,
   "id": "7d686c1f",
   "metadata": {},
   "outputs": [
    {
     "data": {
      "text/plain": [
       "True"
      ]
     },
     "execution_count": 29,
     "metadata": {},
     "output_type": "execute_result"
    }
   ],
   "source": [
    "'123'.isdigit()"
   ]
  },
  {
   "cell_type": "code",
   "execution_count": 31,
   "id": "1167e574",
   "metadata": {},
   "outputs": [
    {
     "data": {
      "text/plain": [
       "False"
      ]
     },
     "execution_count": 31,
     "metadata": {},
     "output_type": "execute_result"
    }
   ],
   "source": [
    "'123a'.isdigit()"
   ]
  },
  {
   "cell_type": "code",
   "execution_count": 32,
   "id": "e9b1dde2",
   "metadata": {},
   "outputs": [
    {
     "data": {
      "text/plain": [
       "True"
      ]
     },
     "execution_count": 32,
     "metadata": {},
     "output_type": "execute_result"
    }
   ],
   "source": [
    "'qwe'.isalpha()"
   ]
  },
  {
   "cell_type": "code",
   "execution_count": 33,
   "id": "ca9c2e18",
   "metadata": {},
   "outputs": [
    {
     "data": {
      "text/plain": [
       "False"
      ]
     },
     "execution_count": 33,
     "metadata": {},
     "output_type": "execute_result"
    }
   ],
   "source": [
    "'asd123'.isalpha()"
   ]
  },
  {
   "cell_type": "markdown",
   "id": "da314798",
   "metadata": {},
   "source": [
    "## Title"
   ]
  },
  {
   "cell_type": "code",
   "execution_count": 35,
   "id": "98e9f11b",
   "metadata": {},
   "outputs": [
    {
     "name": "stdout",
     "output_type": "stream",
     "text": [
      "The Quick Brown Fox Jumps Over Lazy Dogs\n"
     ]
    }
   ],
   "source": [
    "print(text.title())"
   ]
  },
  {
   "cell_type": "code",
   "execution_count": null,
   "id": "fe02b307",
   "metadata": {},
   "outputs": [],
   "source": []
  }
 ],
 "metadata": {
  "kernelspec": {
   "display_name": "Python 3 (ipykernel)",
   "language": "python",
   "name": "python3"
  },
  "language_info": {
   "codemirror_mode": {
    "name": "ipython",
    "version": 3
   },
   "file_extension": ".py",
   "mimetype": "text/x-python",
   "name": "python",
   "nbconvert_exporter": "python",
   "pygments_lexer": "ipython3",
   "version": "3.11.7"
  }
 },
 "nbformat": 4,
 "nbformat_minor": 5
}
