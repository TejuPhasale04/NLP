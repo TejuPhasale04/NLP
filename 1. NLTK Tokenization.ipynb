{
 "cells": [
  {
   "cell_type": "markdown",
   "id": "bd2ff375",
   "metadata": {},
   "source": [
    "## Import Libraries"
   ]
  },
  {
   "cell_type": "code",
   "execution_count": 7,
   "id": "fc994898",
   "metadata": {},
   "outputs": [],
   "source": [
    "import nltk\n",
    "\n",
    "from nltk.tokenize import word_tokenize,sent_tokenize"
   ]
  },
  {
   "cell_type": "code",
   "execution_count": 8,
   "id": "26402b67",
   "metadata": {},
   "outputs": [
    {
     "name": "stdout",
     "output_type": "stream",
     "text": [
      "['Hello Geeks', \"We're hoping guys are doing well\"]\n",
      "2\n",
      "['Hello', \"Geeks.We're\", 'hoping', 'guys', 'are', 'doing', 'well']\n",
      "7\n"
     ]
    }
   ],
   "source": [
    "txt=\"Hello Geeks.We're hoping guys are doing well\"\n",
    "\n",
    "print(txt.split('.'))\n",
    "print(len(txt.split('.')))\n",
    "print(txt.split(' '))\n",
    "print(len(txt.split(' ')))\n",
    "\n"
   ]
  },
  {
   "cell_type": "code",
   "execution_count": 12,
   "id": "88e888a3",
   "metadata": {},
   "outputs": [
    {
     "name": "stdout",
     "output_type": "stream",
     "text": [
      "['Hello Geeks.', \"We're hoping guys are doing well\"]\n",
      "Hello\n",
      "Geeks\n",
      "We\n",
      "'re\n",
      "hoping\n",
      "guys\n",
      "are\n",
      "doing\n",
      "well\n"
     ]
    }
   ],
   "source": [
    "txt=\"Hello Geeks. We're hoping guys are doing well\"\n",
    "\n",
    "print(sent_tokenize(txt))\n",
    "for i in word_tokenize(txt):\n",
    "    if i !='.':\n",
    "        print(i)"
   ]
  },
  {
   "cell_type": "code",
   "execution_count": null,
   "id": "fe675568",
   "metadata": {},
   "outputs": [],
   "source": []
  }
 ],
 "metadata": {
  "kernelspec": {
   "display_name": "Python 3 (ipykernel)",
   "language": "python",
   "name": "python3"
  },
  "language_info": {
   "codemirror_mode": {
    "name": "ipython",
    "version": 3
   },
   "file_extension": ".py",
   "mimetype": "text/x-python",
   "name": "python",
   "nbconvert_exporter": "python",
   "pygments_lexer": "ipython3",
   "version": "3.11.7"
  }
 },
 "nbformat": 4,
 "nbformat_minor": 5
}
