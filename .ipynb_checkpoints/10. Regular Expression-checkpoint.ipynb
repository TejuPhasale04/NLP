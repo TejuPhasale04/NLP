{
 "cells": [
  {
   "cell_type": "code",
   "execution_count": 1,
   "id": "cb547f85",
   "metadata": {},
   "outputs": [],
   "source": [
    "import re"
   ]
  },
  {
   "cell_type": "markdown",
   "id": "c82a0eb3",
   "metadata": {},
   "source": [
    "## 1.Search Function"
   ]
  },
  {
   "cell_type": "code",
   "execution_count": 8,
   "id": "4a4fbd14",
   "metadata": {},
   "outputs": [
    {
     "name": "stdout",
     "output_type": "stream",
     "text": [
      "<re.Match object; span=(0, 5), match='Hello'>\n",
      "(0, 5)\n",
      "0\n",
      "5\n"
     ]
    }
   ],
   "source": [
    "\n",
    "s=re.search('Hello','Hello World')\n",
    "print(s)\n",
    "print(s.span())\n",
    "print(s.start())\n",
    "print(s.end())"
   ]
  },
  {
   "cell_type": "markdown",
   "id": "6dd61e54",
   "metadata": {},
   "source": [
    "## 2.FindAll Function"
   ]
  },
  {
   "cell_type": "code",
   "execution_count": 12,
   "id": "61a5dd6d",
   "metadata": {},
   "outputs": [
    {
     "name": "stdout",
     "output_type": "stream",
     "text": [
      "['Hello', 'Hello', 'Hello']\n",
      "3\n"
     ]
    }
   ],
   "source": [
    "a='Hello world ,Hello Tejaswini,Hello Sanjivani'\n",
    "b='Hello'\n",
    "print(re.findall(b,a))\n",
    "print(len(re.findall(b,a)))"
   ]
  },
  {
   "cell_type": "markdown",
   "id": "ff702529",
   "metadata": {},
   "source": [
    "## 3.Finditer\n",
    "find all word span\n"
   ]
  },
  {
   "cell_type": "code",
   "execution_count": 13,
   "id": "38e72c4d",
   "metadata": {},
   "outputs": [
    {
     "name": "stdout",
     "output_type": "stream",
     "text": [
      "(0, 5)\n",
      "(13, 18)\n",
      "(29, 34)\n"
     ]
    }
   ],
   "source": [
    "a='Hello world ,Hello Tejaswini,Hello Sanjivani'\n",
    "b='Hello'\n",
    "for i in re.finditer(b,a):\n",
    "    print(i.span())"
   ]
  },
  {
   "cell_type": "markdown",
   "id": "5ce8665d",
   "metadata": {},
   "source": [
    "## Creating Regular expression"
   ]
  },
  {
   "cell_type": "code",
   "execution_count": 14,
   "id": "5b6f7630",
   "metadata": {},
   "outputs": [
    {
     "data": {
      "text/plain": [
       "<re.Match object; span=(23, 33), match='1234567891'>"
      ]
     },
     "execution_count": 14,
     "metadata": {},
     "output_type": "execute_result"
    }
   ],
   "source": [
    "txt=\"My telephone number is 1234567891\"\n",
    "pattern='\\d\\d\\d\\d\\d\\d\\d\\d\\d\\d'\n",
    "re.search(pattern,txt)"
   ]
  },
  {
   "cell_type": "code",
   "execution_count": 15,
   "id": "f6b33247",
   "metadata": {},
   "outputs": [
    {
     "data": {
      "text/plain": [
       "<re.Match object; span=(23, 35), match='123-456-7891'>"
      ]
     },
     "execution_count": 15,
     "metadata": {},
     "output_type": "execute_result"
    }
   ],
   "source": [
    "txt=\"My telephone number is 123-456-7891\"\n",
    "pattern='\\d\\d\\d-\\d\\d\\d-\\d\\d\\d\\d'\n",
    "re.search(pattern,txt)"
   ]
  },
  {
   "cell_type": "code",
   "execution_count": 16,
   "id": "19fcefd6",
   "metadata": {},
   "outputs": [
    {
     "data": {
      "text/plain": [
       "<re.Match object; span=(0, 2), match='My'>"
      ]
     },
     "execution_count": 16,
     "metadata": {},
     "output_type": "execute_result"
    }
   ],
   "source": [
    "txt=\"My telephone number is 1234567891\"\n",
    "pattern='\\w\\w'\n",
    "re.search(pattern,txt)"
   ]
  },
  {
   "cell_type": "code",
   "execution_count": 17,
   "id": "3c4d6662",
   "metadata": {},
   "outputs": [
    {
     "data": {
      "text/plain": [
       "<re.Match object; span=(23, 36), match='123-45-678-91'>"
      ]
     },
     "execution_count": 17,
     "metadata": {},
     "output_type": "execute_result"
    }
   ],
   "source": [
    "txt=\"My telephone number is 123-45-678-91\"\n",
    "pattern='\\d{3}-\\d{2}-\\d{3}-\\d{2}'\n",
    "re.search(pattern,txt)"
   ]
  },
  {
   "cell_type": "code",
   "execution_count": 19,
   "id": "66039f6c",
   "metadata": {},
   "outputs": [
    {
     "data": {
      "text/plain": [
       "'123-45-678-91'"
      ]
     },
     "execution_count": 19,
     "metadata": {},
     "output_type": "execute_result"
    }
   ],
   "source": [
    "txt=\"My telephone number is 123-45-678-91\"\n",
    "pattern='\\d{3}-\\d{2}-\\d{3}-\\d{2}'\n",
    "re.search(pattern,txt).group()"
   ]
  },
  {
   "cell_type": "markdown",
   "id": "14c20114",
   "metadata": {},
   "source": [
    "## Pattern Matching With alphanumeric"
   ]
  },
  {
   "cell_type": "markdown",
   "id": "a453be1b",
   "metadata": {},
   "source": [
    "### Finding pattern with specific ending"
   ]
  },
  {
   "cell_type": "code",
   "execution_count": 24,
   "id": "a0218f50",
   "metadata": {},
   "outputs": [
    {
     "data": {
      "text/plain": [
       "['cat', 'sat', 'sat', ' at', 'hat', 'cat']"
      ]
     },
     "execution_count": 24,
     "metadata": {},
     "output_type": "execute_result"
    }
   ],
   "source": [
    "re.findall('.at','The cat was sat on box But dog sat at home and that time one boy was came and dog and cat ran here and there')"
   ]
  },
  {
   "cell_type": "code",
   "execution_count": 25,
   "id": "1b7c4431",
   "metadata": {},
   "outputs": [
    {
     "data": {
      "text/plain": [
       "['e']"
      ]
     },
     "execution_count": 25,
     "metadata": {},
     "output_type": "execute_result"
    }
   ],
   "source": [
    "re.findall('\\w$','The cat was sat on box But dog sat at home and that time one boy was came and dog and cat ran here and there')"
   ]
  },
  {
   "cell_type": "code",
   "execution_count": 27,
   "id": "b69a2bc7",
   "metadata": {},
   "outputs": [
    {
     "data": {
      "text/plain": [
       "['6']"
      ]
     },
     "execution_count": 27,
     "metadata": {},
     "output_type": "execute_result"
    }
   ],
   "source": [
    "re.findall('\\w$','I want getting 20LPA Package in 2026')"
   ]
  },
  {
   "cell_type": "code",
   "execution_count": 28,
   "id": "0b7b49eb",
   "metadata": {},
   "outputs": [
    {
     "data": {
      "text/plain": [
       "['26']"
      ]
     },
     "execution_count": 28,
     "metadata": {},
     "output_type": "execute_result"
    }
   ],
   "source": [
    "re.findall('\\d\\d$','I want getting 20LPA Package in 2026')"
   ]
  },
  {
   "cell_type": "markdown",
   "id": "c6c1d8f0",
   "metadata": {},
   "source": [
    "### Finding Capital Letter"
   ]
  },
  {
   "cell_type": "code",
   "execution_count": 29,
   "id": "fae3a716",
   "metadata": {},
   "outputs": [
    {
     "data": {
      "text/plain": [
       "['W', 'G', 'F', 'G']"
      ]
     },
     "execution_count": 29,
     "metadata": {},
     "output_type": "execute_result"
    }
   ],
   "source": [
    "re.findall('[A-Z]','Welcome to GFG')"
   ]
  },
  {
   "cell_type": "markdown",
   "id": "4538b573",
   "metadata": {},
   "source": [
    "### Finding Small letter"
   ]
  },
  {
   "cell_type": "code",
   "execution_count": 32,
   "id": "5ac994e5",
   "metadata": {},
   "outputs": [
    {
     "name": "stdout",
     "output_type": "stream",
     "text": [
      "['e', 'l', 'c', 'o', 'm', 'e', 't', 'o', 'a', 'n', 'j', 'i', 'v', 'a', 'n', 'i', 'o', 'l', 'l', 'e', 'g', 'e', 'f', 'n', 'g', 'i', 'n', 'e', 'e', 'r', 'i', 'n', 'g']\n"
     ]
    }
   ],
   "source": [
    "print(re.findall('[a-z]','Welcome to Sanjivani College Of Engineering'))"
   ]
  },
  {
   "cell_type": "markdown",
   "id": "0cd9f37d",
   "metadata": {},
   "source": [
    "### Capital and small both"
   ]
  },
  {
   "cell_type": "code",
   "execution_count": 33,
   "id": "9167f71b",
   "metadata": {},
   "outputs": [
    {
     "name": "stdout",
     "output_type": "stream",
     "text": [
      "['I', 'a', 'm', 's', 't', 'u', 'd', 'e', 'n', 't', 'o', 'f', 'S', 'a', 'n', 'j', 'i', 'v', 'a', 'n', 'i', 'C', 'o', 'l', 'l', 'e', 'g', 'e', 'O', 'f', 'E', 'n', 'g', 'i', 'n', 'e', 'e', 'r', 'i', 'n', 'g', 'a', 'n', 'd', 'I', 'w', 'i', 'l', 'l', 'p', 'a', 's', 's', 'i', 'n', 'g', 'o', 'u', 't', 'i', 'n', '2', '0', '2', '6']\n"
     ]
    }
   ],
   "source": [
    "print(re.findall('[A-Za-z0-9]','I am student of Sanjivani College Of Engineering and I will passing out in 2026 '))"
   ]
  },
  {
   "cell_type": "markdown",
   "id": "8a90dbbb",
   "metadata": {},
   "source": [
    "## Text Preprocessing"
   ]
  },
  {
   "cell_type": "code",
   "execution_count": 34,
   "id": "2cff207a",
   "metadata": {},
   "outputs": [],
   "source": [
    "import re"
   ]
  },
  {
   "cell_type": "markdown",
   "id": "b1c07fe6",
   "metadata": {},
   "source": [
    "### 1) Removing a special character"
   ]
  },
  {
   "cell_type": "code",
   "execution_count": 36,
   "id": "1b29a52f",
   "metadata": {},
   "outputs": [
    {
     "data": {
      "text/plain": [
       "'Estant is happy  But  why it is not playing'"
      ]
     },
     "execution_count": 36,
     "metadata": {},
     "output_type": "execute_result"
    }
   ],
   "source": [
    "txt='Estant is happy ! But , why it is not playing'\n",
    "\n",
    "''.join(re.findall('[^!,]',txt))"
   ]
  },
  {
   "cell_type": "code",
   "execution_count": 45,
   "id": "504ce62f",
   "metadata": {},
   "outputs": [
    {
     "data": {
      "text/plain": [
       "'Estant is happy  But  why it is not playing'"
      ]
     },
     "execution_count": 45,
     "metadata": {},
     "output_type": "execute_result"
    }
   ],
   "source": [
    "txt='Estant is happy ! But , why it is not playing @@@ ### $$$ %%% && ** '\n",
    "''.join(re.findall('[^,!@#$%&*]',txt)).strip()"
   ]
  },
  {
   "cell_type": "markdown",
   "id": "4b9fb42c",
   "metadata": {},
   "source": [
    "### 2) Excluse"
   ]
  },
  {
   "cell_type": "code",
   "execution_count": 47,
   "id": "13f54615",
   "metadata": {},
   "outputs": [
    {
     "name": "stdout",
     "output_type": "stream",
     "text": [
      "I'am Tejaswini Phasale and my age is  \n"
     ]
    }
   ],
   "source": [
    "txt=\"I'am Tejaswini Phasale and my age is 20 \"\n",
    "print(''.join(re.findall('\\D',txt)))"
   ]
  },
  {
   "cell_type": "markdown",
   "id": "b4631b1a",
   "metadata": {},
   "source": [
    "### 3) Finding Pattern"
   ]
  },
  {
   "cell_type": "code",
   "execution_count": 54,
   "id": "98ade827",
   "metadata": {},
   "outputs": [
    {
     "data": {
      "text/plain": [
       "['S-C-O-E-K', 'g-o-o-d-s']"
      ]
     },
     "execution_count": 54,
     "metadata": {},
     "output_type": "execute_result"
    }
   ],
   "source": [
    "txt='Hello guys I student of S-C-O-E-K and it is amazing.Lets join us.. g-o-o-d-s'\n",
    "\n",
    "pattern='\\w-\\w-\\w-\\w-\\w'\n",
    "\n",
    "re.findall(pattern,txt)"
   ]
  },
  {
   "cell_type": "code",
   "execution_count": 63,
   "id": "9c2dc407",
   "metadata": {},
   "outputs": [
    {
     "name": "stdout",
     "output_type": "stream",
     "text": [
      "['S-C-O-E-K', 'g-o-o-d-s']\n",
      "S-C-O-E-K\n",
      "(24, 33)\n",
      "(67, 76)\n"
     ]
    }
   ],
   "source": [
    "txt='Hello guys I student of S-C-O-E-K and it is amazing.Lets join us.. g-o-o-d-s'\n",
    "\n",
    "pattern='\\w-\\w-\\w-\\w-\\w'\n",
    "\n",
    "print(re.findall(pattern,txt))\n",
    "\n",
    "print(re.search(pattern,txt).group())\n",
    "\n",
    "for i in re.finditer(pattern,txt):\n",
    "    print(i.span())"
   ]
  },
  {
   "cell_type": "code",
   "execution_count": 65,
   "id": "de66bd28",
   "metadata": {},
   "outputs": [
    {
     "data": {
      "text/plain": [
       "['Sweeeeee-Cassss-Ofdddddddd-Easssssss-Ksaaaaaa', 'g-o-o-d-s']"
      ]
     },
     "execution_count": 65,
     "metadata": {},
     "output_type": "execute_result"
    }
   ],
   "source": [
    "txt='Hello guys I student of Sweeeeee-Cassss-Ofdddddddd-Easssssss-Ksaaaaaa and it is amazing.Lets join us.. g-o-o-d-s'\n",
    "\n",
    "pattern='[\\w]+-[\\w]+-[\\w]+-[\\w]+-[\\w]+'\n",
    "\n",
    "re.findall(pattern,txt)"
   ]
  },
  {
   "cell_type": "markdown",
   "id": "0b344416",
   "metadata": {},
   "source": [
    "### Phone Number Pattern Matching"
   ]
  },
  {
   "cell_type": "code",
   "execution_count": 67,
   "id": "f3022d57",
   "metadata": {},
   "outputs": [
    {
     "name": "stdout",
     "output_type": "stream",
     "text": [
      "['3758875265']\n",
      "['890432685']\n",
      "['6236783462']\n"
     ]
    }
   ],
   "source": [
    "for i in [\"3758875265\",\"890432685\",\"6236783462\"]:\n",
    "    print(re.findall('[\\d]+',i))"
   ]
  },
  {
   "cell_type": "markdown",
   "id": "f9dd13d3",
   "metadata": {},
   "source": [
    "### Email pattern MACHING"
   ]
  },
  {
   "cell_type": "code",
   "execution_count": 77,
   "id": "6f3137c3",
   "metadata": {},
   "outputs": [
    {
     "data": {
      "text/plain": [
       "<re.Match object; span=(0, 14), match='teju@gmail.com'>"
      ]
     },
     "execution_count": 77,
     "metadata": {},
     "output_type": "execute_result"
    }
   ],
   "source": [
    "mail='teju@gmail.com'\n",
    "p='[A-Za-z0-9]+@[\\w]+.(com)'\n",
    "\n",
    "re.search(p,mail)"
   ]
  },
  {
   "cell_type": "markdown",
   "id": "02f8e733",
   "metadata": {},
   "source": [
    "### Continuous number"
   ]
  },
  {
   "cell_type": "code",
   "execution_count": 79,
   "id": "a33393d2",
   "metadata": {},
   "outputs": [
    {
     "data": {
      "text/plain": [
       "['1231321', '432', '64', '568957278778', '853523875387']"
      ]
     },
     "execution_count": 79,
     "metadata": {},
     "output_type": "execute_result"
    }
   ],
   "source": [
    "txt='1231321 ruieqt 432 64 fam,xcdheicuxmseui 568957278778  853523875387'\n",
    "\n",
    "re.findall('[\\d]+',txt)"
   ]
  },
  {
   "cell_type": "markdown",
   "id": "521bbbc1",
   "metadata": {},
   "source": [
    "### DIY Words Starting from specific character"
   ]
  },
  {
   "cell_type": "code",
   "execution_count": 85,
   "id": "8771027d",
   "metadata": {},
   "outputs": [
    {
     "name": "stdout",
     "output_type": "stream",
     "text": [
      "Hello\n",
      "Hello\n",
      "Hello\n"
     ]
    }
   ],
   "source": [
    "a='Hello world , Hello Tejaswini, Hello Sanjivani'\n",
    "b='he'\n",
    "for word in a.split(' '):\n",
    "    if (word[:2].lower() == b.lower()):\n",
    "        print(word)"
   ]
  }
 ],
 "metadata": {
  "kernelspec": {
   "display_name": "Python 3 (ipykernel)",
   "language": "python",
   "name": "python3"
  },
  "language_info": {
   "codemirror_mode": {
    "name": "ipython",
    "version": 3
   },
   "file_extension": ".py",
   "mimetype": "text/x-python",
   "name": "python",
   "nbconvert_exporter": "python",
   "pygments_lexer": "ipython3",
   "version": "3.11.7"
  }
 },
 "nbformat": 4,
 "nbformat_minor": 5
}
