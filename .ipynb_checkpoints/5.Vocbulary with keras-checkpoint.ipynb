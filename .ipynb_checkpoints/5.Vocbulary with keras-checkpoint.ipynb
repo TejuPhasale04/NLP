{
 "cells": [
  {
   "cell_type": "code",
   "execution_count": 1,
   "id": "04d2f2d0",
   "metadata": {},
   "outputs": [],
   "source": [
    "from tensorflow.keras.preprocessing.text import Tokenizer"
   ]
  },
  {
   "cell_type": "code",
   "execution_count": 2,
   "id": "c2e19764",
   "metadata": {},
   "outputs": [],
   "source": [
    "tok=Tokenizer()"
   ]
  },
  {
   "cell_type": "code",
   "execution_count": 13,
   "id": "a8086f6e",
   "metadata": {},
   "outputs": [],
   "source": [
    "corp=['Coffiee is hot','Water is cold']"
   ]
  },
  {
   "cell_type": "markdown",
   "id": "a9a45bfa",
   "metadata": {},
   "source": [
    "## Text to sequence"
   ]
  },
  {
   "cell_type": "code",
   "execution_count": 18,
   "id": "10196a60",
   "metadata": {},
   "outputs": [
    {
     "data": {
      "text/plain": [
       "{'is': 1, 'coffiee': 2, 'hot': 3, 'water': 4, 'cold': 5}"
      ]
     },
     "execution_count": 18,
     "metadata": {},
     "output_type": "execute_result"
    }
   ],
   "source": [
    "tok.fit_on_texts(corp)\n",
    "tok.word_index"
   ]
  },
  {
   "cell_type": "code",
   "execution_count": 15,
   "id": "9d5237b0",
   "metadata": {},
   "outputs": [
    {
     "data": {
      "text/plain": [
       "[[2, 1, 3], [4, 1, 5]]"
      ]
     },
     "execution_count": 15,
     "metadata": {},
     "output_type": "execute_result"
    }
   ],
   "source": [
    "tok.texts_to_sequences(corp)"
   ]
  }
 ],
 "metadata": {
  "kernelspec": {
   "display_name": "Python 3 (ipykernel)",
   "language": "python",
   "name": "python3"
  },
  "language_info": {
   "codemirror_mode": {
    "name": "ipython",
    "version": 3
   },
   "file_extension": ".py",
   "mimetype": "text/x-python",
   "name": "python",
   "nbconvert_exporter": "python",
   "pygments_lexer": "ipython3",
   "version": "3.11.7"
  }
 },
 "nbformat": 4,
 "nbformat_minor": 5
}
