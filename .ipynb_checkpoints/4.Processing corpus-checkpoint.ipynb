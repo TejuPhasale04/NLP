{
 "cells": [
  {
   "cell_type": "markdown",
   "id": "f2172b61",
   "metadata": {},
   "source": [
    "### Processing the corpus\n",
    "\n",
    "Corpus - large collection of text\n",
    "\n",
    "\n",
    "Vocabulary -unique words\n",
    "\n",
    "1.tokenization\n",
    "\n",
    "2.stop woed removal \n",
    "\n",
    "3.special character removal\n",
    "\n",
    "4.converting to lowercase"
   ]
  },
  {
   "cell_type": "markdown",
   "id": "0ef3950c",
   "metadata": {},
   "source": [
    "## Importing Libraries"
   ]
  },
  {
   "cell_type": "code",
   "execution_count": 2,
   "id": "cba9936f",
   "metadata": {},
   "outputs": [],
   "source": [
    "import nltk\n",
    "from nltk.tokenize import word_tokenize,sent_tokenize"
   ]
  },
  {
   "cell_type": "code",
   "execution_count": null,
   "id": "ea6caf19",
   "metadata": {},
   "outputs": [],
   "source": []
  },
  {
   "cell_type": "markdown",
   "id": "a32c770e",
   "metadata": {},
   "source": [
    "## Data Loading"
   ]
  },
  {
   "cell_type": "code",
   "execution_count": 4,
   "id": "b0909f2d",
   "metadata": {},
   "outputs": [],
   "source": [
    "corpus='''What Is Speech?\n",
    "\n",
    "Speech is how we say sounds and words. Speech includes:\n",
    "\n",
    "Articulation\n",
    "How we make speech sounds using the mouth, lips, and tongue. For example, we need to be able to say the “r” sound to say \"rabbit\" instead of \"wabbit.”\n",
    "\n",
    "Voice\n",
    "How we use our vocal folds and breath to make sounds. Our voice can be loud or soft or high- or low-pitched. We can hurt our voice by talking too much, yelling, or coughing a lot.\n",
    "\n",
    "Fluency\n",
    "This is the rhythm of our speech. We sometimes repeat sounds or pause while talking. People who do this a lot may stutter.\n",
    "What Is Language?\n",
    "\n",
    "Language refers to the words we use and how we use them to share ideas and get what we want. Language includes:\n",
    "\n",
    "    What words mean. Some words have more than one meaning. For example, “star” can be a bright object in the sky or someone famous.\n",
    "    How to make new words. For example, we can say “friend,” “friendly,” or “unfriendly” and mean something different.\n",
    "    How to put words together. For example, in English we say, “Peg walked to the new store” instead of “Peg walk store new.”\n",
    "    What we should say at different times. For example, we might be polite and say, “Would you mind moving your foot?” But, if the person does not move, we may say, “Get off my foot!”\n",
    "\n",
    "Language and Speech Disorders\n",
    "\n",
    "We can have trouble with speech, language, or both. Having trouble understanding what others say is a receptive language disorder. Having problems sharing our thoughts, ideas, and feelings is an expressive language disorder. It is possible to have both a receptive and an expressive language problem.\n",
    "\n",
    "When we have trouble saying sounds, stutter when we speak, or have voice problems, we have a speech disorder.\n",
    "\n",
    "Jorge has a speech disorder that makes him hard to understand. So does Louis. The reason Tommy has trouble is different than the reason Louis does.\n",
    "\n",
    "Maryam has a receptive and expressive language disorder. She does not understand what words mean and has trouble using words to talk to others.\n",
    "\n",
    "Vicki also has a language disorder. Reading and writing are language skills. She could also have problems understanding others and using words well because of her learning disability.\n",
    "Where to Get Help\n",
    "\n",
    "SLPs work with people who have speech and language disorders. SLPs work in schools, hospitals, and clinics, and may be able to come to your home.\n",
    "\n",
    "To find a speech-language pathologist near you, visit ProFind.'''"
   ]
  },
  {
   "cell_type": "markdown",
   "id": "15f46b62",
   "metadata": {},
   "source": [
    "## Tokenization"
   ]
  },
  {
   "cell_type": "code",
   "execution_count": null,
   "id": "607df2b0",
   "metadata": {},
   "outputs": [],
   "source": []
  }
 ],
 "metadata": {
  "kernelspec": {
   "display_name": "Python 3 (ipykernel)",
   "language": "python",
   "name": "python3"
  },
  "language_info": {
   "codemirror_mode": {
    "name": "ipython",
    "version": 3
   },
   "file_extension": ".py",
   "mimetype": "text/x-python",
   "name": "python",
   "nbconvert_exporter": "python",
   "pygments_lexer": "ipython3",
   "version": "3.11.7"
  }
 },
 "nbformat": 4,
 "nbformat_minor": 5
}
