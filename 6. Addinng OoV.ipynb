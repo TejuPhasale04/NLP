{
 "cells": [
  {
   "cell_type": "code",
   "execution_count": 4,
   "id": "b68c5ff6",
   "metadata": {},
   "outputs": [],
   "source": [
    "from tensorflow.keras.preprocessing.text import Tokenizer"
   ]
  },
  {
   "cell_type": "code",
   "execution_count": 6,
   "id": "8cc80f28",
   "metadata": {},
   "outputs": [],
   "source": [
    "tok=Tokenizer(oov_token='blank')"
   ]
  },
  {
   "cell_type": "code",
   "execution_count": 10,
   "id": "de815193",
   "metadata": {},
   "outputs": [
    {
     "data": {
      "text/plain": [
       "[[3, 2, 4], [5, 2, 6]]"
      ]
     },
     "execution_count": 10,
     "metadata": {},
     "output_type": "execute_result"
    }
   ],
   "source": [
    "corp=['Coffee is hot','water is cold']\n",
    "tok.fit_on_texts(corp)\n",
    "tok.texts_to_sequences(corp)"
   ]
  }
 ],
 "metadata": {
  "kernelspec": {
   "display_name": "Python 3 (ipykernel)",
   "language": "python",
   "name": "python3"
  },
  "language_info": {
   "codemirror_mode": {
    "name": "ipython",
    "version": 3
   },
   "file_extension": ".py",
   "mimetype": "text/x-python",
   "name": "python",
   "nbconvert_exporter": "python",
   "pygments_lexer": "ipython3",
   "version": "3.11.7"
  }
 },
 "nbformat": 4,
 "nbformat_minor": 5
}
