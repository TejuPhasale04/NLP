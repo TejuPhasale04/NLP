{
 "cells": [
  {
   "cell_type": "code",
   "execution_count": 3,
   "id": "0f2aa804",
   "metadata": {},
   "outputs": [],
   "source": [
    "import nltk\n",
    "\n",
    "from nltk.stem import WordNetLemmatizer,PorterStemmer"
   ]
  },
  {
   "cell_type": "code",
   "execution_count": 6,
   "id": "2a05f8cd",
   "metadata": {},
   "outputs": [],
   "source": [
    "lem=WordNetLemmatizer()\n",
    "stem=PorterStemmer()"
   ]
  },
  {
   "cell_type": "code",
   "execution_count": 9,
   "id": "0331faba",
   "metadata": {},
   "outputs": [
    {
     "name": "stdout",
     "output_type": "stream",
     "text": [
      "Change\n",
      "Changes\n",
      "Changing\n",
      "Changed\n"
     ]
    }
   ],
   "source": [
    "#Lemmatization return meaningfull root word\n",
    "\n",
    "\n",
    "print(lem.lemmatize(\"Change\"))\n",
    "print(lem.lemmatize(\"Changes\"))\n",
    "print(lem.lemmatize(\"Changing\"))\n",
    "print(lem.lemmatize(\"Changed\"))"
   ]
  },
  {
   "cell_type": "code",
   "execution_count": 12,
   "id": "13a934c4",
   "metadata": {},
   "outputs": [
    {
     "name": "stdout",
     "output_type": "stream",
     "text": [
      "chang\n",
      "chang\n",
      "chang\n",
      "chang\n"
     ]
    }
   ],
   "source": [
    "#stremming return meaningless root word\n",
    "\n",
    "\n",
    "\n",
    "print(stem.stem(\"Change\"))\n",
    "print(stem.stem(\"Changes\"))\n",
    "print(stem.stem(\"Changing\"))\n",
    "print(stem.stem(\"Changed\"))"
   ]
  }
 ],
 "metadata": {
  "kernelspec": {
   "display_name": "Python 3 (ipykernel)",
   "language": "python",
   "name": "python3"
  },
  "language_info": {
   "codemirror_mode": {
    "name": "ipython",
    "version": 3
   },
   "file_extension": ".py",
   "mimetype": "text/x-python",
   "name": "python",
   "nbconvert_exporter": "python",
   "pygments_lexer": "ipython3",
   "version": "3.11.7"
  }
 },
 "nbformat": 4,
 "nbformat_minor": 5
}
