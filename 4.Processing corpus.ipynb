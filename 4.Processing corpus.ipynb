{
 "cells": [
  {
   "cell_type": "markdown",
   "id": "f2172b61",
   "metadata": {},
   "source": [
    "### Processing the corpus\n",
    "\n",
    "Corpus - large collection of text\n",
    "\n",
    "\n",
    "Vocabulary -unique words\n",
    "\n"
   ]
  },
  {
   "cell_type": "markdown",
   "id": "0ef3950c",
   "metadata": {},
   "source": [
    "## Importing Libraries"
   ]
  },
  {
   "cell_type": "code",
   "execution_count": 8,
   "id": "cba9936f",
   "metadata": {},
   "outputs": [],
   "source": [
    "import nltk\n",
    "from nltk.tokenize import word_tokenize,sent_tokenize\n",
    "from nltk.corpus import stopwords"
   ]
  },
  {
   "cell_type": "code",
   "execution_count": null,
   "id": "ea6caf19",
   "metadata": {},
   "outputs": [],
   "source": []
  },
  {
   "cell_type": "markdown",
   "id": "a32c770e",
   "metadata": {},
   "source": [
    "## Data Loading"
   ]
  },
  {
   "cell_type": "code",
   "execution_count": 3,
   "id": "b0909f2d",
   "metadata": {},
   "outputs": [],
   "source": [
    "corpus='''What Is Speech?\n",
    "\n",
    "Speech is how we say sounds and words. Speech includes:\n",
    "\n",
    "Articulation\n",
    "How we make speech sounds using the mouth, lips, and tongue. For example, we need to be able to say the “r” sound to say \"rabbit\" instead of \"wabbit.”\n",
    "\n",
    "Voice\n",
    "How we use our vocal folds and breath to make sounds. Our voice can be loud or soft or high- or low-pitched. We can hurt our voice by talking too much, yelling, or coughing a lot.\n",
    "\n",
    "Fluency\n",
    "This is the rhythm of our speech. We sometimes repeat sounds or pause while talking. People who do this a lot may stutter.\n",
    "What Is Language?\n",
    "\n",
    "Language refers to the words we use and how we use them to share ideas and get what we want. Language includes:\n",
    "\n",
    "    What words mean. Some words have more than one meaning. For example, “star” can be a bright object in the sky or someone famous.\n",
    "    How to make new words. For example, we can say “friend,” “friendly,” or “unfriendly” and mean something different.\n",
    "    How to put words together. For example, in English we say, “Peg walked to the new store” instead of “Peg walk store new.”\n",
    "    What we should say at different times. For example, we might be polite and say, “Would you mind moving your foot?” But, if the person does not move, we may say, “Get off my foot!”\n",
    "\n",
    "Language and Speech Disorders\n",
    "\n",
    "We can have trouble with speech, language, or both. Having trouble understanding what others say is a receptive language disorder. Having problems sharing our thoughts, ideas, and feelings is an expressive language disorder. It is possible to have both a receptive and an expressive language problem.\n",
    "\n",
    "When we have trouble saying sounds, stutter when we speak, or have voice problems, we have a speech disorder.\n",
    "\n",
    "Jorge has a speech disorder that makes him hard to understand. So does Louis. The reason Tommy has trouble is different than the reason Louis does.\n",
    "\n",
    "Maryam has a receptive and expressive language disorder. She does not understand what words mean and has trouble using words to talk to others.\n",
    "\n",
    "Vicki also has a language disorder. Reading and writing are language skills. She could also have problems understanding others and using words well because of her learning disability.\n",
    "Where to Get Help\n",
    "\n",
    "SLPs work with people who have speech and language disorders. SLPs work in schools, hospitals, and clinics, and may be able to come to your home.\n",
    "\n",
    "To find a speech-language pathologist near you, visit ProFind.'''"
   ]
  },
  {
   "cell_type": "markdown",
   "id": "15f46b62",
   "metadata": {},
   "source": [
    "## Tokenization"
   ]
  },
  {
   "cell_type": "code",
   "execution_count": 7,
   "id": "607df2b0",
   "metadata": {},
   "outputs": [
    {
     "name": "stdout",
     "output_type": "stream",
     "text": [
      "['What', 'Is', 'Speech', '?', 'Speech', 'is', 'how', 'we', 'say', 'sounds', 'and', 'words', '.', 'Speech', 'includes', ':', 'Articulation', 'How', 'we', 'make', 'speech', 'sounds', 'using', 'the', 'mouth', ',', 'lips', ',', 'and', 'tongue', '.', 'For', 'example', ',', 'we', 'need', 'to', 'be', 'able', 'to', 'say', 'the', '“', 'r', '”', 'sound', 'to', 'say', '``', 'rabbit', \"''\", 'instead', 'of', '``', 'wabbit.', '”', 'Voice', 'How', 'we', 'use', 'our', 'vocal', 'folds', 'and', 'breath', 'to', 'make', 'sounds', '.', 'Our', 'voice', 'can', 'be', 'loud', 'or', 'soft', 'or', 'high-', 'or', 'low-pitched', '.', 'We', 'can', 'hurt', 'our', 'voice', 'by', 'talking', 'too', 'much', ',', 'yelling', ',', 'or', 'coughing', 'a', 'lot', '.', 'Fluency', 'This', 'is', 'the', 'rhythm', 'of', 'our', 'speech', '.', 'We', 'sometimes', 'repeat', 'sounds', 'or', 'pause', 'while', 'talking', '.', 'People', 'who', 'do', 'this', 'a', 'lot', 'may', 'stutter', '.', 'What', 'Is', 'Language', '?', 'Language', 'refers', 'to', 'the', 'words', 'we', 'use', 'and', 'how', 'we', 'use', 'them', 'to', 'share', 'ideas', 'and', 'get', 'what', 'we', 'want', '.', 'Language', 'includes', ':', 'What', 'words', 'mean', '.', 'Some', 'words', 'have', 'more', 'than', 'one', 'meaning', '.', 'For', 'example', ',', '“', 'star', '”', 'can', 'be', 'a', 'bright', 'object', 'in', 'the', 'sky', 'or', 'someone', 'famous', '.', 'How', 'to', 'make', 'new', 'words', '.', 'For', 'example', ',', 'we', 'can', 'say', '“', 'friend', ',', '”', '“', 'friendly', ',', '”', 'or', '“', 'unfriendly', '”', 'and', 'mean', 'something', 'different', '.', 'How', 'to', 'put', 'words', 'together', '.', 'For', 'example', ',', 'in', 'English', 'we', 'say', ',', '“', 'Peg', 'walked', 'to', 'the', 'new', 'store', '”', 'instead', 'of', '“', 'Peg', 'walk', 'store', 'new.', '”', 'What', 'we', 'should', 'say', 'at', 'different', 'times', '.', 'For', 'example', ',', 'we', 'might', 'be', 'polite', 'and', 'say', ',', '“', 'Would', 'you', 'mind', 'moving', 'your', 'foot', '?', '”', 'But', ',', 'if', 'the', 'person', 'does', 'not', 'move', ',', 'we', 'may', 'say', ',', '“', 'Get', 'off', 'my', 'foot', '!', '”', 'Language', 'and', 'Speech', 'Disorders', 'We', 'can', 'have', 'trouble', 'with', 'speech', ',', 'language', ',', 'or', 'both', '.', 'Having', 'trouble', 'understanding', 'what', 'others', 'say', 'is', 'a', 'receptive', 'language', 'disorder', '.', 'Having', 'problems', 'sharing', 'our', 'thoughts', ',', 'ideas', ',', 'and', 'feelings', 'is', 'an', 'expressive', 'language', 'disorder', '.', 'It', 'is', 'possible', 'to', 'have', 'both', 'a', 'receptive', 'and', 'an', 'expressive', 'language', 'problem', '.', 'When', 'we', 'have', 'trouble', 'saying', 'sounds', ',', 'stutter', 'when', 'we', 'speak', ',', 'or', 'have', 'voice', 'problems', ',', 'we', 'have', 'a', 'speech', 'disorder', '.', 'Jorge', 'has', 'a', 'speech', 'disorder', 'that', 'makes', 'him', 'hard', 'to', 'understand', '.', 'So', 'does', 'Louis', '.', 'The', 'reason', 'Tommy', 'has', 'trouble', 'is', 'different', 'than', 'the', 'reason', 'Louis', 'does', '.', 'Maryam', 'has', 'a', 'receptive', 'and', 'expressive', 'language', 'disorder', '.', 'She', 'does', 'not', 'understand', 'what', 'words', 'mean', 'and', 'has', 'trouble', 'using', 'words', 'to', 'talk', 'to', 'others', '.', 'Vicki', 'also', 'has', 'a', 'language', 'disorder', '.', 'Reading', 'and', 'writing', 'are', 'language', 'skills', '.', 'She', 'could', 'also', 'have', 'problems', 'understanding', 'others', 'and', 'using', 'words', 'well', 'because', 'of', 'her', 'learning', 'disability', '.', 'Where', 'to', 'Get', 'Help', 'SLPs', 'work', 'with', 'people', 'who', 'have', 'speech', 'and', 'language', 'disorders', '.', 'SLPs', 'work', 'in', 'schools', ',', 'hospitals', ',', 'and', 'clinics', ',', 'and', 'may', 'be', 'able', 'to', 'come', 'to', 'your', 'home', '.', 'To', 'find', 'a', 'speech-language', 'pathologist', 'near', 'you', ',', 'visit', 'ProFind', '.']\n"
     ]
    }
   ],
   "source": [
    "token=word_tokenize(corpus)\n",
    "print(token)"
   ]
  },
  {
   "cell_type": "markdown",
   "id": "1f131bcf",
   "metadata": {},
   "source": [
    "## Remove Stopwords"
   ]
  },
  {
   "cell_type": "code",
   "execution_count": 11,
   "id": "ddba22ec",
   "metadata": {},
   "outputs": [
    {
     "name": "stdout",
     "output_type": "stream",
     "text": [
      "['What', 'Is', 'Speech', '?', 'Speech', 'say', 'sounds', 'words', '.', 'Speech', 'includes', ':', 'Articulation', 'How', 'make', 'speech', 'sounds', 'using', 'mouth', ',', 'lips', ',', 'tongue', '.', 'For', 'example', ',', 'need', 'able', 'say', '“', 'r', '”', 'sound', 'say', '``', 'rabbit', \"''\", 'instead', '``', 'wabbit.', '”', 'Voice', 'How', 'use', 'vocal', 'folds', 'breath', 'make', 'sounds', '.', 'Our', 'voice', 'loud', 'soft', 'high-', 'low-pitched', '.', 'We', 'hurt', 'voice', 'talking', 'much', ',', 'yelling', ',', 'coughing', 'lot', '.', 'Fluency', 'This', 'rhythm', 'speech', '.', 'We', 'sometimes', 'repeat', 'sounds', 'pause', 'talking', '.', 'People', 'lot', 'may', 'stutter', '.', 'What', 'Is', 'Language', '?', 'Language', 'refers', 'words', 'use', 'use', 'share', 'ideas', 'get', 'want', '.', 'Language', 'includes', ':', 'What', 'words', 'mean', '.', 'Some', 'words', 'one', 'meaning', '.', 'For', 'example', ',', '“', 'star', '”', 'bright', 'object', 'sky', 'someone', 'famous', '.', 'How', 'make', 'new', 'words', '.', 'For', 'example', ',', 'say', '“', 'friend', ',', '”', '“', 'friendly', ',', '”', '“', 'unfriendly', '”', 'mean', 'something', 'different', '.', 'How', 'put', 'words', 'together', '.', 'For', 'example', ',', 'English', 'say', ',', '“', 'Peg', 'walked', 'new', 'store', '”', 'instead', '“', 'Peg', 'walk', 'store', 'new.', '”', 'What', 'say', 'different', 'times', '.', 'For', 'example', ',', 'might', 'polite', 'say', ',', '“', 'Would', 'mind', 'moving', 'foot', '?', '”', 'But', ',', 'person', 'move', ',', 'may', 'say', ',', '“', 'Get', 'foot', '!', '”', 'Language', 'Speech', 'Disorders', 'We', 'trouble', 'speech', ',', 'language', ',', '.', 'Having', 'trouble', 'understanding', 'others', 'say', 'receptive', 'language', 'disorder', '.', 'Having', 'problems', 'sharing', 'thoughts', ',', 'ideas', ',', 'feelings', 'expressive', 'language', 'disorder', '.', 'It', 'possible', 'receptive', 'expressive', 'language', 'problem', '.', 'When', 'trouble', 'saying', 'sounds', ',', 'stutter', 'speak', ',', 'voice', 'problems', ',', 'speech', 'disorder', '.', 'Jorge', 'speech', 'disorder', 'makes', 'hard', 'understand', '.', 'So', 'Louis', '.', 'The', 'reason', 'Tommy', 'trouble', 'different', 'reason', 'Louis', '.', 'Maryam', 'receptive', 'expressive', 'language', 'disorder', '.', 'She', 'understand', 'words', 'mean', 'trouble', 'using', 'words', 'talk', 'others', '.', 'Vicki', 'also', 'language', 'disorder', '.', 'Reading', 'writing', 'language', 'skills', '.', 'She', 'could', 'also', 'problems', 'understanding', 'others', 'using', 'words', 'well', 'learning', 'disability', '.', 'Where', 'Get', 'Help', 'SLPs', 'work', 'people', 'speech', 'language', 'disorders', '.', 'SLPs', 'work', 'schools', ',', 'hospitals', ',', 'clinics', ',', 'may', 'able', 'come', 'home', '.', 'To', 'find', 'speech-language', 'pathologist', 'near', ',', 'visit', 'ProFind', '.']\n"
     ]
    }
   ],
   "source": [
    "filterwrd=[i for i in token if i not in stopwords.words('english')]\n",
    "\n",
    "print(filterwrd)"
   ]
  },
  {
   "cell_type": "markdown",
   "id": "568018e4",
   "metadata": {},
   "source": [
    "## Remove Special Symbol"
   ]
  },
  {
   "cell_type": "code",
   "execution_count": 14,
   "id": "cbe5584c",
   "metadata": {},
   "outputs": [
    {
     "name": "stdout",
     "output_type": "stream",
     "text": [
      "['What', 'Is', 'Speech', 'Speech', 'say', 'sounds', 'words', 'Speech', 'includes', 'Articulation', 'How', 'make', 'speech', 'sounds', 'using', 'mouth', 'lips', 'tongue', 'For', 'example', 'need', 'able', 'say', 'r', 'sound', 'say', 'rabbit', 'instead', 'Voice', 'How', 'use', 'vocal', 'folds', 'breath', 'make', 'sounds', 'Our', 'voice', 'loud', 'soft', 'We', 'hurt', 'voice', 'talking', 'much', 'yelling', 'coughing', 'lot', 'Fluency', 'This', 'rhythm', 'speech', 'We', 'sometimes', 'repeat', 'sounds', 'pause', 'talking', 'People', 'lot', 'may', 'stutter', 'What', 'Is', 'Language', 'Language', 'refers', 'words', 'use', 'use', 'share', 'ideas', 'get', 'want', 'Language', 'includes', 'What', 'words', 'mean', 'Some', 'words', 'one', 'meaning', 'For', 'example', 'star', 'bright', 'object', 'sky', 'someone', 'famous', 'How', 'make', 'new', 'words', 'For', 'example', 'say', 'friend', 'friendly', 'unfriendly', 'mean', 'something', 'different', 'How', 'put', 'words', 'together', 'For', 'example', 'English', 'say', 'Peg', 'walked', 'new', 'store', 'instead', 'Peg', 'walk', 'store', 'What', 'say', 'different', 'times', 'For', 'example', 'might', 'polite', 'say', 'Would', 'mind', 'moving', 'foot', 'But', 'person', 'move', 'may', 'say', 'Get', 'foot', 'Language', 'Speech', 'Disorders', 'We', 'trouble', 'speech', 'language', 'Having', 'trouble', 'understanding', 'others', 'say', 'receptive', 'language', 'disorder', 'Having', 'problems', 'sharing', 'thoughts', 'ideas', 'feelings', 'expressive', 'language', 'disorder', 'It', 'possible', 'receptive', 'expressive', 'language', 'problem', 'When', 'trouble', 'saying', 'sounds', 'stutter', 'speak', 'voice', 'problems', 'speech', 'disorder', 'Jorge', 'speech', 'disorder', 'makes', 'hard', 'understand', 'So', 'Louis', 'The', 'reason', 'Tommy', 'trouble', 'different', 'reason', 'Louis', 'Maryam', 'receptive', 'expressive', 'language', 'disorder', 'She', 'understand', 'words', 'mean', 'trouble', 'using', 'words', 'talk', 'others', 'Vicki', 'also', 'language', 'disorder', 'Reading', 'writing', 'language', 'skills', 'She', 'could', 'also', 'problems', 'understanding', 'others', 'using', 'words', 'well', 'learning', 'disability', 'Where', 'Get', 'Help', 'SLPs', 'work', 'people', 'speech', 'language', 'disorders', 'SLPs', 'work', 'schools', 'hospitals', 'clinics', 'may', 'able', 'come', 'home', 'To', 'find', 'pathologist', 'near', 'visit', 'ProFind']\n"
     ]
    }
   ],
   "source": [
    "filter_token=[i for i in filterwrd if i.isalpha()]\n",
    "\n",
    "print(filter_token)"
   ]
  },
  {
   "cell_type": "markdown",
   "id": "373d0f66",
   "metadata": {},
   "source": [
    "## Calculating Vocabulary Size"
   ]
  },
  {
   "cell_type": "code",
   "execution_count": 17,
   "id": "cbdd6d50",
   "metadata": {},
   "outputs": [
    {
     "name": "stdout",
     "output_type": "stream",
     "text": [
      "{'ideas', 'much', 'This', 'Speech', 'talk', 'using', 'refers', 'writing', 'Reading', 'rhythm', 'example', 'possible', 'voice', 'something', 'schools', 'hurt', 'disability', 'reason', 'receptive', 'repeat', 'could', 'star', 'hard', 'Fluency', 'speak', 'someone', 'together', 'stutter', 'mind', 'r', 'Would', 'pathologist', 'unfriendly', 'English', 'disorders', 'disorder', 'mean', 'people', 'get', 'sometimes', 'instead', 'rabbit', 'famous', 'use', 'share', 'So', 'folds', 'Tommy', 'Help', 'Is', 'soft', 'People', 'Where', 'able', 'bright', 'Peg', 'coughing', 'speech', 'understand', 'moving', 'home', 'might', 'breath', 'meaning', 'lot', 'For', 'makes', 'Disorders', 'make', 'others', 'visit', 'sky', 'may', 'Some', 'Our', 'friendly', 'Louis', 'hospitals', 'Get', 'problems', 'pause', 'times', 'expressive', 'We', 'move', 'understanding', 'includes', 'learning', 'words', 'also', 'Articulation', 'object', 'Maryam', 'skills', 'person', 'walk', 'SLPs', 'one', 'What', 'loud', 'It', 'sharing', 'sounds', 'need', 'want', 'mouth', 'Having', 'clinics', 'Jorge', 'different', 'feelings', 'trouble', 'vocal', 'near', 'polite', 'When', 'tongue', 'sound', 'Language', 'work', 'saying', 'Vicki', 'well', 'walked', 'She', 'ProFind', 'yelling', 'new', 'Voice', 'find', 'lips', 'thoughts', 'language', 'come', 'talking', 'How', 'friend', 'To', 'foot', 'store', 'But', 'problem', 'put', 'say', 'The'}\n",
      "145\n"
     ]
    }
   ],
   "source": [
    "unique_word=set(filter_token)\n",
    "print(unique_word)\n",
    "print(len(unique_word))"
   ]
  },
  {
   "cell_type": "markdown",
   "id": "60d7ecfe",
   "metadata": {},
   "source": [
    "## Encodeing the text"
   ]
  },
  {
   "cell_type": "code",
   "execution_count": 26,
   "id": "04456566",
   "metadata": {},
   "outputs": [
    {
     "name": "stdout",
     "output_type": "stream",
     "text": [
      "{'ideas': 1, 'much': 2, 'This': 3, 'Speech': 4, 'talk': 5, 'using': 6, 'refers': 7, 'writing': 8, 'Reading': 9, 'rhythm': 10, 'example': 11, 'possible': 12, 'voice': 13, 'something': 14, 'schools': 15, 'hurt': 16, 'disability': 17, 'reason': 18, 'receptive': 19, 'repeat': 20, 'could': 21, 'star': 22, 'hard': 23, 'Fluency': 24, 'speak': 25, 'someone': 26, 'together': 27, 'stutter': 28, 'mind': 29, 'r': 30, 'Would': 31, 'pathologist': 32, 'unfriendly': 33, 'English': 34, 'disorders': 35, 'disorder': 36, 'mean': 37, 'people': 38, 'get': 39, 'sometimes': 40, 'instead': 41, 'rabbit': 42, 'famous': 43, 'use': 44, 'share': 45, 'So': 46, 'folds': 47, 'Tommy': 48, 'Help': 49, 'Is': 50, 'soft': 51, 'People': 52, 'Where': 53, 'able': 54, 'bright': 55, 'Peg': 56, 'coughing': 57, 'speech': 58, 'understand': 59, 'moving': 60, 'home': 61, 'might': 62, 'breath': 63, 'meaning': 64, 'lot': 65, 'For': 66, 'makes': 67, 'Disorders': 68, 'make': 69, 'others': 70, 'visit': 71, 'sky': 72, 'may': 73, 'Some': 74, 'Our': 75, 'friendly': 76, 'Louis': 77, 'hospitals': 78, 'Get': 79, 'problems': 80, 'pause': 81, 'times': 82, 'expressive': 83, 'We': 84, 'move': 85, 'understanding': 86, 'includes': 87, 'learning': 88, 'words': 89, 'also': 90, 'Articulation': 91, 'object': 92, 'Maryam': 93, 'skills': 94, 'person': 95, 'walk': 96, 'SLPs': 97, 'one': 98, 'What': 99, 'loud': 100, 'It': 101, 'sharing': 102, 'sounds': 103, 'need': 104, 'want': 105, 'mouth': 106, 'Having': 107, 'clinics': 108, 'Jorge': 109, 'different': 110, 'feelings': 111, 'trouble': 112, 'vocal': 113, 'near': 114, 'polite': 115, 'When': 116, 'tongue': 117, 'sound': 118, 'Language': 119, 'work': 120, 'saying': 121, 'Vicki': 122, 'well': 123, 'walked': 124, 'She': 125, 'ProFind': 126, 'yelling': 127, 'new': 128, 'Voice': 129, 'find': 130, 'lips': 131, 'thoughts': 132, 'language': 133, 'come': 134, 'talking': 135, 'How': 136, 'friend': 137, 'To': 138, 'foot': 139, 'store': 140, 'But': 141, 'problem': 142, 'put': 143, 'say': 144, 'The': 145}\n",
      "********************                      ********************                      ********************                     \n",
      "[99, 50, 4, 4, 144, 103, 89, 4, 87, 91, 136, 69, 58, 103, 6, 106, 131, 117, 66, 11, 104, 54, 144, 30, 118, 144, 42, 41, 129, 136, 44, 113, 47, 63, 69, 103, 75, 13, 100, 51, 84, 16, 13, 135, 2, 127, 57, 65, 24, 3, 10, 58, 84, 40, 20, 103, 81, 135, 52, 65, 73, 28, 99, 50, 119, 119, 7, 89, 44, 44, 45, 1, 39, 105, 119, 87, 99, 89, 37, 74, 89, 98, 64, 66, 11, 22, 55, 92, 72, 26, 43, 136, 69, 128, 89, 66, 11, 144, 137, 76, 33, 37, 14, 110, 136, 143, 89, 27, 66, 11, 34, 144, 56, 124, 128, 140, 41, 56, 96, 140, 99, 144, 110, 82, 66, 11, 62, 115, 144, 31, 29, 60, 139, 141, 95, 85, 73, 144, 79, 139, 119, 4, 68, 84, 112, 58, 133, 107, 112, 86, 70, 144, 19, 133, 36, 107, 80, 102, 132, 1, 111, 83, 133, 36, 101, 12, 19, 83, 133, 142, 116, 112, 121, 103, 28, 25, 13, 80, 58, 36, 109, 58, 36, 67, 23, 59, 46, 77, 145, 18, 48, 112, 110, 18, 77, 93, 19, 83, 133, 36, 125, 59, 89, 37, 112, 6, 89, 5, 70, 122, 90, 133, 36, 9, 8, 133, 94, 125, 21, 90, 80, 86, 70, 6, 89, 123, 88, 17, 53, 79, 49, 97, 120, 38, 58, 133, 35, 97, 120, 15, 78, 108, 73, 54, 134, 61, 138, 130, 32, 114, 71, 126]\n"
     ]
    }
   ],
   "source": [
    "word_to_no={word : i+1 for i,word in enumerate(unique_word)}\n",
    "print(word_to_no)\n",
    "\n",
    "encoded_text=[word_to_no[word] for word in filter_token]\n",
    "print('*'*20,' '*20,'*'*20,' '*20,'*'*20,' '*20)\n",
    "print(encoded_text)"
   ]
  },
  {
   "cell_type": "code",
   "execution_count": null,
   "id": "80c22d5a",
   "metadata": {},
   "outputs": [],
   "source": []
  }
 ],
 "metadata": {
  "kernelspec": {
   "display_name": "Python 3 (ipykernel)",
   "language": "python",
   "name": "python3"
  },
  "language_info": {
   "codemirror_mode": {
    "name": "ipython",
    "version": 3
   },
   "file_extension": ".py",
   "mimetype": "text/x-python",
   "name": "python",
   "nbconvert_exporter": "python",
   "pygments_lexer": "ipython3",
   "version": "3.11.7"
  }
 },
 "nbformat": 4,
 "nbformat_minor": 5
}
